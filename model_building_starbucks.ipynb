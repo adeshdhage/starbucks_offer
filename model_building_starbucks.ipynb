{
 "cells": [
  {
   "cell_type": "markdown",
   "metadata": {},
   "source": [
    "# model building\n",
    "\n"
   ]
  },
  {
   "cell_type": "markdown",
   "metadata": {},
   "source": [
    "### from Data Preparation"
   ]
  },
  {
   "cell_type": "code",
   "execution_count": 1,
   "metadata": {},
   "outputs": [],
   "source": [
    "# Import the relevant libraries \n",
    "import numpy as np\n",
    "import pandas as pd\n",
    "import matplotlib.pyplot as plt \n",
    "%matplotlib inline\n",
    "import math\n",
    "import json\n",
    "plt.rc(\"font\", size=14)\n",
    "import seaborn as sns\n",
    "sns.set()\n",
    "sns.set(style=\"whitegrid\", color_codes=True)"
   ]
  },
  {
   "cell_type": "code",
   "execution_count": 2,
   "metadata": {},
   "outputs": [],
   "source": [
    "# Read in the csv files\n",
    "offer_df = pd.read_csv('total_issued_offer.csv')\n",
    "customer_df = pd.read_csv('customer_df.csv')\n",
    "rfm_df = pd.read_csv('rfm_score.csv')"
   ]
  },
  {
   "cell_type": "code",
   "execution_count": 3,
   "metadata": {},
   "outputs": [],
   "source": [
    "offer_df.rename(columns={'id':'customer_id'},inplace=True)\n",
    "customer_df.rename(columns={'id':'customer_id'},inplace=True)\n",
    "rfm_df.rename(columns={'id':'customer_id'},inplace=True)"
   ]
  },
  {
   "cell_type": "code",
   "execution_count": 4,
   "metadata": {},
   "outputs": [],
   "source": [
    "# Merge all the datasets\n",
    "customer_offer_df_mod = offer_df.merge(customer_df, left_on = 'customer_id', right_on ='customer_id', how='left')\n",
    "customer_offer_df =customer_offer_df_mod.merge(rfm_df, left_on = 'customer_id', right_on ='customer_id', how='left').fillna(0)"
   ]
  },
  {
   "cell_type": "code",
   "execution_count": 5,
   "metadata": {},
   "outputs": [
    {
     "name": "stdout",
     "output_type": "stream",
     "text": [
      "<class 'pandas.core.frame.DataFrame'>\n",
      "Int64Index: 76277 entries, 0 to 76276\n",
      "Data columns (total 14 columns):\n",
      " #   Column            Non-Null Count  Dtype  \n",
      "---  ------            --------------  -----  \n",
      " 0   customer_id       76277 non-null  object \n",
      " 1   days              76277 non-null  int64  \n",
      " 2   offer_id          76277 non-null  object \n",
      " 3   max_offer_day     76277 non-null  float64\n",
      " 4   offer_type        76277 non-null  object \n",
      " 5   desirable_use     76277 non-null  object \n",
      " 6   gender            76277 non-null  object \n",
      " 7   age               76277 non-null  int64  \n",
      " 8   became_member_on  76277 non-null  object \n",
      " 9   income            76277 non-null  float64\n",
      " 10  days_as_member    76277 non-null  int64  \n",
      " 11  recency           76277 non-null  float64\n",
      " 12  frequency         76277 non-null  float64\n",
      " 13  monetary          76277 non-null  float64\n",
      "dtypes: float64(5), int64(3), object(6)\n",
      "memory usage: 8.7+ MB\n"
     ]
    }
   ],
   "source": [
    "customer_offer_df.info()"
   ]
  },
  {
   "cell_type": "code",
   "execution_count": 6,
   "metadata": {},
   "outputs": [],
   "source": [
    "# Drop the unnecessary features \n",
    "customer_offer_df.drop(['became_member_on','days','max_offer_day','offer_id'],axis =1, inplace= True)"
   ]
  },
  {
   "cell_type": "code",
   "execution_count": 7,
   "metadata": {},
   "outputs": [],
   "source": [
    "total_issued_bogo = customer_offer_df.query('offer_type ==\"bogo\"')\n",
    "total_issued_disc = customer_offer_df.query('offer_type ==\"discount\"')\n",
    "total_issued_info = customer_offer_df.query('offer_type ==\"informational\"')"
   ]
  },
  {
   "cell_type": "markdown",
   "metadata": {},
   "source": [
    "### Characteristics of the Dataset"
   ]
  },
  {
   "cell_type": "markdown",
   "metadata": {},
   "source": [
    "#### 1. Imbalanced Data "
   ]
  },
  {
   "cell_type": "code",
   "execution_count": 8,
   "metadata": {
    "scrolled": true
   },
   "outputs": [
    {
     "name": "stdout",
     "output_type": "stream",
     "text": [
      "BOGO Offer:\n",
      "non-desirable    25129\n",
      "desirable         5370\n",
      "Name: desirable_use, dtype: int64\n",
      " \n",
      "Discount Offer:\n",
      "non-desirable    24075\n",
      "desirable         6468\n",
      "Name: desirable_use, dtype: int64\n",
      " \n",
      "Informational Offer:\n",
      "non-desirable    14048\n",
      "desirable         1187\n",
      "Name: desirable_use, dtype: int64\n"
     ]
    }
   ],
   "source": [
    "print('BOGO Offer:' )\n",
    "print(total_issued_bogo.desirable_use.value_counts())\n",
    "print(' ')\n",
    "print('Discount Offer:' )\n",
    "print(total_issued_disc.desirable_use.value_counts())\n",
    "print(' ')\n",
    "print('Informational Offer:' )\n",
    "print(total_issued_info.desirable_use.value_counts())"
   ]
  },
  {
   "cell_type": "code",
   "execution_count": 9,
   "metadata": {},
   "outputs": [
    {
     "data": {
      "text/plain": [
       "<AxesSubplot:xlabel='offer_type', ylabel='count'>"
      ]
     },
     "execution_count": 9,
     "metadata": {},
     "output_type": "execute_result"
    },
    {
     "data": {
      "image/png": "[encoded data removed]",
      "text/plain": [
       "<Figure size 432x288 with 1 Axes>"
      ]
     },
     "metadata": {},
     "output_type": "display_data"
    }
   ],
   "source": [
    "offer_order =['bogo', 'discount','informational']\n",
    "sns.countplot(data= customer_offer_df, x= 'offer_type', hue = 'desirable_use', order = offer_order)"
   ]
  },
  {
   "cell_type": "markdown",
   "metadata": {},
   "source": [
    "> The size of 'informational' offer class is very low. It consist of 9,86% of all datapoints only. Imbalanced data\n"
   ]
  },
  {
   "cell_type": "markdown",
   "metadata": {},
   "source": [
    "#### 2. Classification Feature Selection \n"
   ]
  },
  {
   "cell_type": "markdown",
   "metadata": {},
   "source": [
    "Running the example first creates the regression dataset, then defines the feature selection and applies the feature selection procedure to the dataset, returning a subset of the selected input features. \n"
   ]
  },
  {
   "cell_type": "code",
   "execution_count": 10,
   "metadata": {},
   "outputs": [],
   "source": [
    "# Import necessary libraries \n",
    "from sklearn.feature_selection import f_classif\n",
    "\n",
    "# chi-squared test with similar proportions\n",
    "from scipy.stats import chi2_contingency\n",
    "from scipy.stats import chi2"
   ]
  },
  {
   "cell_type": "code",
   "execution_count": 11,
   "metadata": {},
   "outputs": [],
   "source": [
    "def Feature_selection(offer_df):\n",
    "    \n",
    "    # Target variable: 'desirable_use'\n",
    "    categorical_target = offer_df.desirable_use\n",
    "    \n",
    "    selected_inputs = []\n",
    "    \n",
    "    # Numerical Inputs Selection \n",
    "    numerical_inputs = offer_df.drop(['customer_id','desirable_use','gender','offer_type'], axis =1)\n",
    "    \n",
    "    anova_test = f_classif(numerical_inputs, categorical_target)\n",
    "    \n",
    "    prob = 0.95\n",
    "    alpha = 1.0 - prob\n",
    "    \n",
    "    for i in range(len(anova_test[1])):\n",
    "        if anova_test[1][i] < alpha:\n",
    "            selected_inputs.append(numerical_inputs.columns[i])\n",
    "    \n",
    "    # Categorical Inputs Selection \n",
    "    categorical_input = offer_df['gender']\n",
    "    gender_df = pd.get_dummies(offer_df.gender, prefix = 'gender', prefix_sep = '_')\n",
    "    gender_df['desirable_use'], gender_df['customer_id'] = offer_df['desirable_use'], offer_df['customer_id']\n",
    "    \n",
    "    contingency_table = gender_df.groupby(['desirable_use'], as_index = True).sum()\n",
    "    stat, p, dof, expected = chi2_contingency(contingency_table.values)\n",
    "       \n",
    "    if p <= alpha:\n",
    "        selected_inputs.append('gender')\n",
    "\n",
    "        \n",
    "    return offer_df[selected_inputs]\n"
   ]
  },
  {
   "cell_type": "code",
   "execution_count": 12,
   "metadata": {},
   "outputs": [],
   "source": [
    "bogo_df = Feature_selection(total_issued_bogo)\n",
    "discount_df = Feature_selection(total_issued_disc)\n",
    "informational_df = Feature_selection(total_issued_info)\n"
   ]
  },
  {
   "cell_type": "code",
   "execution_count": 13,
   "metadata": {},
   "outputs": [
    {
     "name": "stderr",
     "output_type": "stream",
     "text": [
      "C:\\Users\\sai\\AppData\\Local\\Temp\\ipykernel_4604\\3356983487.py:6: SettingWithCopyWarning: \n",
      "A value is trying to be set on a copy of a slice from a DataFrame.\n",
      "Try using .loc[row_indexer,col_indexer] = value instead\n",
      "\n",
      "See the caveats in the documentation: https://pandas.pydata.org/pandas-docs/stable/user_guide/indexing.html#returning-a-view-versus-a-copy\n",
      "  col['desirable_use']=label_encoder.fit_transform(d1)\n"
     ]
    }
   ],
   "source": [
    "from sklearn import preprocessing\n",
    "label_encoder = preprocessing.LabelEncoder()\n",
    "\n",
    "def endcoder(col):\n",
    "    d1=col['desirable_use']\n",
    "    col['desirable_use']=label_encoder.fit_transform(d1)\n",
    "endcoder(total_issued_bogo)\n",
    "endcoder(total_issued_disc)\n",
    "endcoder(total_issued_info)\n"
   ]
  },
  {
   "cell_type": "markdown",
   "metadata": {},
   "source": [
    "<a id='Analysis'></a>\n",
    "## 4. Data Analysis  \n",
    "\n",
    "&emsp;4.2. Data Spliting <br>\n",
    "&emsp;4.3. Data Balancing <br>\n",
    "&emsp;4.4. Model Comparison <br>\n",
    "&emsp;4.5. Model Evaluation <br>\n",
    "&emsp;4.6. Model Selection<br>\n",
    "### 4. 2. Data Spliting"
   ]
  },
  {
   "cell_type": "code",
   "execution_count": 14,
   "metadata": {},
   "outputs": [],
   "source": [
    "from sklearn.model_selection import train_test_split\n",
    "\n",
    "\n",
    "test_size = 0.2\n",
    "random_state = 42\n",
    "\n",
    "bogo_target= total_issued_bogo.desirable_use\n",
    "disc_target= total_issued_disc.desirable_use\n",
    "info_target= total_issued_info.desirable_use\n",
    "\n"
   ]
  },
  {
   "cell_type": "markdown",
   "metadata": {},
   "source": [
    "#### Train & Test Data"
   ]
  },
  {
   "cell_type": "code",
   "execution_count": 16,
   "metadata": {},
   "outputs": [],
   "source": [
    "# Bogo\n",
    "bogo_trainX, bogo_testX, bogo_trainy, bogo_testy = train_test_split(bogo_df, bogo_target, \n",
    "                                                                  test_size=test_size, random_state=random_state)\n",
    "# Discount\n",
    "disc_trainX, disc_testX, disc_trainy, disc_testy = train_test_split(discount_df, disc_target, \n",
    "                                                                    test_size=test_size, random_state=random_state)\n",
    "# Informational\n",
    "info_trainX, info_testX, info_trainy, info_testy = train_test_split(informational_df, info_target, \n",
    "                                                                    test_size=test_size, random_state=random_state)"
   ]
  },
  {
   "cell_type": "code",
   "execution_count": 17,
   "metadata": {},
   "outputs": [
    {
     "name": "stdout",
     "output_type": "stream",
     "text": [
      "6206     1\n",
      "72911    1\n",
      "35231    1\n",
      "12173    1\n",
      "37034    1\n",
      "        ..\n",
      "3752     1\n",
      "38532    1\n",
      "47504    1\n",
      "54740    1\n",
      "39628    1\n",
      "Name: desirable_use, Length: 6100, dtype: int32\n"
     ]
    }
   ],
   "source": [
    "# !pip install imblearn\n",
    "print(bogo_testy)"
   ]
  },
  {
   "cell_type": "markdown",
   "metadata": {},
   "source": [
    "\n",
    "### 4. 3. Data Balancing "
   ]
  },
  {
   "cell_type": "code",
   "execution_count": 18,
   "metadata": {},
   "outputs": [
    {
     "name": "stdout",
     "output_type": "stream",
     "text": [
      "0.10.1\n"
     ]
    }
   ],
   "source": [
    "# check version number\n",
    "import imblearn\n",
    "print(imblearn.__version__)\n",
    "\n",
    "# Import necessary libraries \n",
    "from imblearn.over_sampling import SMOTE\n",
    "from collections import Counter"
   ]
  },
  {
   "cell_type": "code",
   "execution_count": 19,
   "metadata": {
    "scrolled": true
   },
   "outputs": [
    {
     "name": "stdout",
     "output_type": "stream",
     "text": [
      "         BOGO Training Data:  Counter({1: 20108, 0: 4291})\n",
      "     Discount Training Data:  Counter({1: 19243, 0: 5191})\n",
      "Informational Training Data:  Counter({1: 11244, 0: 944})\n"
     ]
    }
   ],
   "source": [
    "import collections\n",
    "print('         BOGO Training Data: ',collections.Counter(bogo_trainy) )\n",
    "print('     Discount Training Data: ',collections.Counter(disc_trainy) )\n",
    "print('Informational Training Data: ',collections.Counter(info_trainy) )"
   ]
  },
  {
   "cell_type": "code",
   "execution_count": 22,
   "metadata": {},
   "outputs": [],
   "source": [
    "def Balancing_Data(X_train, y_train): \n",
    "    \n",
    "    # Decide how many the minority class should be oversampled \n",
    "    \n",
    "    nondes_train = int(collections.Counter(y_train)[1])\n",
    "    # des_train = int(collections.Counter(y_train)['desirable']*4)\n",
    "    des_train = int(nondes_train*0.7)\n",
    "    \n",
    "    # Transform the dataset\n",
    "    strategy = { 1:nondes_train, 0:des_train}\n",
    "    oversample = SMOTE(sampling_strategy=strategy)\n",
    "    \n",
    "    # Balanced dataset \n",
    "    X_balanced, y_balanced = oversample.fit_resample( X_train, y_train)\n",
    "    \n",
    "    # Summarize newly balanced Distribution\n",
    "    counter = Counter(y_balanced)\n",
    "    for k,v in counter.items():\n",
    "        per = v / len(y_balanced) * 100\n",
    "        print('Class=%s, n=%d (%.3f%%)' % (k, v, per))\n",
    "        \n",
    "    # Plot the distribution\n",
    "    plt.bar(counter.keys(), counter.values())\n",
    "    plt.show()\n",
    "    \n",
    "    balanced_train = pd.concat([X_balanced, y_balanced],axis=1)\n",
    "    \n",
    "    return balanced_train\n",
    "    "
   ]
  },
  {
   "cell_type": "code",
   "execution_count": 23,
   "metadata": {},
   "outputs": [
    {
     "name": "stdout",
     "output_type": "stream",
     "text": [
      "Class=1, n=20108 (58.825%)\n",
      "Class=0, n=14075 (41.175%)\n"
     ]
    },
    {
     "data": {
      "image/png": "[encoded data removed]",
      "text/plain": [
       "<Figure size 432x288 with 1 Axes>"
      ]
     },
     "metadata": {},
     "output_type": "display_data"
    },
    {
     "name": "stdout",
     "output_type": "stream",
     "text": [
      "Class=1, n=19243 (58.824%)\n",
      "Class=0, n=13470 (41.176%)\n"
     ]
    },
    {
     "data": {
      "image/png": "[encoded data removed]",
      "text/plain": [
       "<Figure size 432x288 with 1 Axes>"
      ]
     },
     "metadata": {},
     "output_type": "display_data"
    },
    {
     "name": "stdout",
     "output_type": "stream",
     "text": [
      "Class=0, n=7870 (41.174%)\n",
      "Class=1, n=11244 (58.826%)\n"
     ]
    },
    {
     "data": {
      "image/png": "[encoded data removed]",
      "text/plain": [
       "<Figure size 432x288 with 1 Axes>"
      ]
     },
     "metadata": {},
     "output_type": "display_data"
    }
   ],
   "source": [
    "balanced_bogo = Balancing_Data(bogo_trainX, bogo_trainy)\n",
    "balanced_disc = Balancing_Data(disc_trainX, disc_trainy)\n",
    "balanced_info = Balancing_Data(info_trainX, info_trainy)"
   ]
  },
  {
   "cell_type": "code",
   "execution_count": null,
   "metadata": {},
   "outputs": [],
   "source": []
  },
  {
   "cell_type": "code",
   "execution_count": 24,
   "metadata": {},
   "outputs": [],
   "source": [
    "# !pip install xgboost \n",
    "# !pip install lightgbm\n",
    "# !pip install catboost"
   ]
  },
  {
   "cell_type": "markdown",
   "metadata": {},
   "source": [
    "### 4. 4. Model Comparison\n",
    "\n",
    "- Sklearn Ensemble Methods (Random Forest, AdaBoost, GradientBoost)\n",
    "- XGBoost vs. LightGBM vs. CatBoost  \n",
    "- LogisticRegression \n"
   ]
  },
  {
   "cell_type": "code",
   "execution_count": 25,
   "metadata": {},
   "outputs": [],
   "source": [
    "# Import necessary libraries \n",
    "# 1. Sklearn Ensemble Methods\n",
    "from sklearn.tree import DecisionTreeClassifier\n",
    "from sklearn.ensemble import (RandomForestClassifier, AdaBoostClassifier, GradientBoostingClassifier) \n",
    "\n",
    "# 2. XG Boost vs. Light GBM vs. CatBoost\n",
    "import xgboost as xgb # XG Boost \n",
    "import lightgbm as lgbm # Light GBM\n",
    "import catboost as cb # CatBoost\n",
    "\n",
    "# 3. A Benchmark Model\n",
    "from sklearn.linear_model import LogisticRegression \n",
    "\n",
    "# Evaluation tools \n",
    "from sklearn import metrics\n",
    "from sklearn.metrics import precision_score \n",
    "from sklearn.metrics import recall_score \n",
    "\n",
    "from time import time # To measure execution time of the model "
   ]
  },
  {
   "cell_type": "markdown",
   "metadata": {},
   "source": [
    "#### Set up the models "
   ]
  },
  {
   "cell_type": "code",
   "execution_count": 26,
   "metadata": {},
   "outputs": [],
   "source": [
    "# 1. Sklearn Ensemble Methods\n",
    "rf = RandomForestClassifier(n_estimators=500, max_features=0.06, n_jobs=6, class_weight = 'balanced', \n",
    "                            verbose = 0, random_state=42)\n",
    "\n",
    "base_estim = DecisionTreeClassifier(max_depth=1, max_features=0.06)                            \n",
    "ab = AdaBoostClassifier(base_estimator=base_estim, n_estimators=500, learning_rate=0.5, random_state=42)\n",
    "\n",
    "gbm = GradientBoostingClassifier(n_estimators=2000, subsample=0.75, max_features=0.06, verbose = 0,  validation_fraction=0.1, random_state=42)"
   ]
  },
  {
   "cell_type": "code",
   "execution_count": 27,
   "metadata": {},
   "outputs": [],
   "source": [
    "# 2. XG Boost vs. Light GBM vs. CatBoost\n",
    "xgb = xgb.XGBClassifier(n_estimators=2000, tree_method='hist', subsample=0.75, \n",
    "                        objective = 'binary:logistic', n_jobs=6, random_state=42)\n",
    "\n",
    "lgbm = lgbm.LGBMClassifier(n_estimators=2000, n_jobs=6, random_state=42)\n",
    "                          \n",
    "\n",
    "cb =  cb.CatBoostClassifier(n_estimators=2000, colsample_bylevel=0.06, max_leaves=31, subsample=0.75, \n",
    "                            thread_count=6, verbose = 0, random_state=42)"
   ]
  },
  {
   "cell_type": "code",
   "execution_count": 28,
   "metadata": {},
   "outputs": [],
   "source": [
    "# 3. A Benchmark Model\n",
    "logreg = LogisticRegression(random_state=42, class_weight = 'balanced')"
   ]
  },
  {
   "cell_type": "code",
   "execution_count": 29,
   "metadata": {},
   "outputs": [],
   "source": [
    "models = [logreg, rf, ab, gbm, xgb, lgbm, cb]\n",
    "model_names = [i.__class__.__name__ for i in models]\n",
    "es_models = ['XGBClassifier', 'LGBMClassifier', 'CatBoostClassifier']"
   ]
  },
  {
   "cell_type": "markdown",
   "metadata": {},
   "source": [
    "#### Train and Evaluate the models "
   ]
  },
  {
   "cell_type": "code",
   "execution_count": 30,
   "metadata": {},
   "outputs": [],
   "source": [
    "def Train_Evaluate_Models(balanced_df, test_inputs, test_target):\n",
    "    \n",
    "    # Identify target and inputs variables\n",
    "    balanced_target= balanced_df.desirable_use\n",
    "    balanced_inputs= balanced_df.drop(['desirable_use'], axis=1)\n",
    "    \n",
    "    # Create a validation sample from balanced training data \n",
    "    trainX_sub, trainX_valid, trainy_sub, trainy_valid = train_test_split(balanced_inputs, balanced_target, test_size=0.1)\n",
    "    \n",
    "    # Set up a dataframe to contain the results\n",
    "    results = pd.DataFrame(columns=['accuracy','prediction','recall','f1_score', 'run_time'])  \n",
    "    \n",
    "    # Training the models \n",
    "    for m, n in zip(models, model_names):\n",
    "    \n",
    "        start_time = time()\n",
    "        if n in es_models:\n",
    "            m.fit(trainX_sub, trainy_sub,\n",
    "                  eval_set = [(trainX_valid, trainy_valid)], \n",
    "                  early_stopping_rounds=15, verbose=0)\n",
    "        else:\n",
    "            m.fit(balanced_inputs, balanced_target)\n",
    "    \n",
    "        run_time = time() - start_time\n",
    "\n",
    "        y_pred = m.predict(test_inputs)\n",
    "        accuracy = np.mean( y_pred == test_target)\n",
    "        precision = precision_score(test_target, y_pred, average= 'weighted', zero_division=0)\n",
    "        recall = recall_score(test_target, y_pred, average= 'weighted', zero_division=0)\n",
    "        f1_score = 2 * (precision * recall) / (precision + recall)\n",
    "\n",
    "        results.loc[n] = [accuracy,precision, recall, f1_score, run_time]\n",
    "\n",
    "        del m\n",
    "    \n",
    "    return results\n",
    "    "
   ]
  },
  {
   "cell_type": "code",
   "execution_count": 33,
   "metadata": {},
   "outputs": [
    {
     "name": "stderr",
     "output_type": "stream",
     "text": [
      "C:\\Users\\sai\\anaconda3\\lib\\site-packages\\xgboost\\sklearn.py:835: UserWarning: `early_stopping_rounds` in `fit` method is deprecated for better compatibility with scikit-learn, use `early_stopping_rounds` in constructor or`set_params` instead.\n",
      "  warnings.warn(\n",
      "C:\\Users\\sai\\anaconda3\\lib\\site-packages\\lightgbm\\sklearn.py:726: UserWarning: 'early_stopping_rounds' argument is deprecated and will be removed in a future release of LightGBM. Pass 'early_stopping()' callback via 'callbacks' argument instead.\n",
      "  _log_warning(\"'early_stopping_rounds' argument is deprecated and will be removed in a future release of LightGBM. \"\n",
      "C:\\Users\\sai\\anaconda3\\lib\\site-packages\\lightgbm\\sklearn.py:736: UserWarning: 'verbose' argument is deprecated and will be removed in a future release of LightGBM. Pass 'log_evaluation()' callback via 'callbacks' argument instead.\n",
      "  _log_warning(\"'verbose' argument is deprecated and will be removed in a future release of LightGBM. \"\n"
     ]
    },
    {
     "data": {
      "text/html": [
       "<div>\n",
       "<style scoped>\n",
       "    .dataframe tbody tr th:only-of-type {\n",
       "        vertical-align: middle;\n",
       "    }\n",
       "\n",
       "    .dataframe tbody tr th {\n",
       "        vertical-align: top;\n",
       "    }\n",
       "\n",
       "    .dataframe thead th {\n",
       "        text-align: right;\n",
       "    }\n",
       "</style>\n",
       "<table border=\"1\" class=\"dataframe\">\n",
       "  <thead>\n",
       "    <tr style=\"text-align: right;\">\n",
       "      <th></th>\n",
       "      <th>accuracy</th>\n",
       "      <th>prediction</th>\n",
       "      <th>recall</th>\n",
       "      <th>f1_score</th>\n",
       "      <th>run_time</th>\n",
       "    </tr>\n",
       "  </thead>\n",
       "  <tbody>\n",
       "    <tr>\n",
       "      <th>LogisticRegression</th>\n",
       "      <td>0.637213</td>\n",
       "      <td>0.755204</td>\n",
       "      <td>0.637213</td>\n",
       "      <td>0.691209</td>\n",
       "      <td>0.199466</td>\n",
       "    </tr>\n",
       "    <tr>\n",
       "      <th>RandomForestClassifier</th>\n",
       "      <td>0.724426</td>\n",
       "      <td>0.733889</td>\n",
       "      <td>0.724426</td>\n",
       "      <td>0.729127</td>\n",
       "      <td>11.576044</td>\n",
       "    </tr>\n",
       "    <tr>\n",
       "      <th>AdaBoostClassifier</th>\n",
       "      <td>0.720000</td>\n",
       "      <td>0.766715</td>\n",
       "      <td>0.720000</td>\n",
       "      <td>0.742624</td>\n",
       "      <td>8.620943</td>\n",
       "    </tr>\n",
       "    <tr>\n",
       "      <th>GradientBoostingClassifier</th>\n",
       "      <td>0.803443</td>\n",
       "      <td>0.738672</td>\n",
       "      <td>0.803443</td>\n",
       "      <td>0.769697</td>\n",
       "      <td>41.518965</td>\n",
       "    </tr>\n",
       "    <tr>\n",
       "      <th>XGBClassifier</th>\n",
       "      <td>0.800656</td>\n",
       "      <td>0.739860</td>\n",
       "      <td>0.800656</td>\n",
       "      <td>0.769058</td>\n",
       "      <td>1.093074</td>\n",
       "    </tr>\n",
       "    <tr>\n",
       "      <th>LGBMClassifier</th>\n",
       "      <td>0.811803</td>\n",
       "      <td>0.742468</td>\n",
       "      <td>0.811803</td>\n",
       "      <td>0.775589</td>\n",
       "      <td>1.662553</td>\n",
       "    </tr>\n",
       "    <tr>\n",
       "      <th>CatBoostClassifier</th>\n",
       "      <td>0.716066</td>\n",
       "      <td>0.767301</td>\n",
       "      <td>0.716066</td>\n",
       "      <td>0.740798</td>\n",
       "      <td>6.285193</td>\n",
       "    </tr>\n",
       "  </tbody>\n",
       "</table>\n",
       "</div>"
      ],
      "text/plain": [
       "                            accuracy  prediction    recall  f1_score  \\\n",
       "LogisticRegression          0.637213    0.755204  0.637213  0.691209   \n",
       "RandomForestClassifier      0.724426    0.733889  0.724426  0.729127   \n",
       "AdaBoostClassifier          0.720000    0.766715  0.720000  0.742624   \n",
       "GradientBoostingClassifier  0.803443    0.738672  0.803443  0.769697   \n",
       "XGBClassifier               0.800656    0.739860  0.800656  0.769058   \n",
       "LGBMClassifier              0.811803    0.742468  0.811803  0.775589   \n",
       "CatBoostClassifier          0.716066    0.767301  0.716066  0.740798   \n",
       "\n",
       "                             run_time  \n",
       "LogisticRegression           0.199466  \n",
       "RandomForestClassifier      11.576044  \n",
       "AdaBoostClassifier           8.620943  \n",
       "GradientBoostingClassifier  41.518965  \n",
       "XGBClassifier                1.093074  \n",
       "LGBMClassifier               1.662553  \n",
       "CatBoostClassifier           6.285193  "
      ]
     },
     "execution_count": 33,
     "metadata": {},
     "output_type": "execute_result"
    }
   ],
   "source": [
    "Train_Evaluate_Models(balanced_bogo, bogo_testX, bogo_testy)"
   ]
  },
  {
   "cell_type": "code",
   "execution_count": 34,
   "metadata": {},
   "outputs": [
    {
     "name": "stderr",
     "output_type": "stream",
     "text": [
      "C:\\Users\\sai\\anaconda3\\lib\\site-packages\\xgboost\\sklearn.py:835: UserWarning: `early_stopping_rounds` in `fit` method is deprecated for better compatibility with scikit-learn, use `early_stopping_rounds` in constructor or`set_params` instead.\n",
      "  warnings.warn(\n",
      "C:\\Users\\sai\\anaconda3\\lib\\site-packages\\lightgbm\\sklearn.py:726: UserWarning: 'early_stopping_rounds' argument is deprecated and will be removed in a future release of LightGBM. Pass 'early_stopping()' callback via 'callbacks' argument instead.\n",
      "  _log_warning(\"'early_stopping_rounds' argument is deprecated and will be removed in a future release of LightGBM. \"\n",
      "C:\\Users\\sai\\anaconda3\\lib\\site-packages\\lightgbm\\sklearn.py:736: UserWarning: 'verbose' argument is deprecated and will be removed in a future release of LightGBM. Pass 'log_evaluation()' callback via 'callbacks' argument instead.\n",
      "  _log_warning(\"'verbose' argument is deprecated and will be removed in a future release of LightGBM. \"\n"
     ]
    },
    {
     "data": {
      "text/html": [
       "<div>\n",
       "<style scoped>\n",
       "    .dataframe tbody tr th:only-of-type {\n",
       "        vertical-align: middle;\n",
       "    }\n",
       "\n",
       "    .dataframe tbody tr th {\n",
       "        vertical-align: top;\n",
       "    }\n",
       "\n",
       "    .dataframe thead th {\n",
       "        text-align: right;\n",
       "    }\n",
       "</style>\n",
       "<table border=\"1\" class=\"dataframe\">\n",
       "  <thead>\n",
       "    <tr style=\"text-align: right;\">\n",
       "      <th></th>\n",
       "      <th>accuracy</th>\n",
       "      <th>prediction</th>\n",
       "      <th>recall</th>\n",
       "      <th>f1_score</th>\n",
       "      <th>run_time</th>\n",
       "    </tr>\n",
       "  </thead>\n",
       "  <tbody>\n",
       "    <tr>\n",
       "      <th>LogisticRegression</th>\n",
       "      <td>0.619578</td>\n",
       "      <td>0.724111</td>\n",
       "      <td>0.619578</td>\n",
       "      <td>0.667778</td>\n",
       "      <td>0.179514</td>\n",
       "    </tr>\n",
       "    <tr>\n",
       "      <th>RandomForestClassifier</th>\n",
       "      <td>0.689475</td>\n",
       "      <td>0.694859</td>\n",
       "      <td>0.689475</td>\n",
       "      <td>0.692156</td>\n",
       "      <td>13.139859</td>\n",
       "    </tr>\n",
       "    <tr>\n",
       "      <th>AdaBoostClassifier</th>\n",
       "      <td>0.704862</td>\n",
       "      <td>0.734045</td>\n",
       "      <td>0.704862</td>\n",
       "      <td>0.719158</td>\n",
       "      <td>8.306785</td>\n",
       "    </tr>\n",
       "    <tr>\n",
       "      <th>GradientBoostingClassifier</th>\n",
       "      <td>0.772139</td>\n",
       "      <td>0.704180</td>\n",
       "      <td>0.772139</td>\n",
       "      <td>0.736596</td>\n",
       "      <td>40.813848</td>\n",
       "    </tr>\n",
       "    <tr>\n",
       "      <th>XGBClassifier</th>\n",
       "      <td>0.762645</td>\n",
       "      <td>0.697080</td>\n",
       "      <td>0.762645</td>\n",
       "      <td>0.728390</td>\n",
       "      <td>1.061159</td>\n",
       "    </tr>\n",
       "    <tr>\n",
       "      <th>LGBMClassifier</th>\n",
       "      <td>0.778523</td>\n",
       "      <td>0.700977</td>\n",
       "      <td>0.778523</td>\n",
       "      <td>0.737718</td>\n",
       "      <td>1.291547</td>\n",
       "    </tr>\n",
       "    <tr>\n",
       "      <th>CatBoostClassifier</th>\n",
       "      <td>0.697004</td>\n",
       "      <td>0.728685</td>\n",
       "      <td>0.697004</td>\n",
       "      <td>0.712493</td>\n",
       "      <td>7.342363</td>\n",
       "    </tr>\n",
       "  </tbody>\n",
       "</table>\n",
       "</div>"
      ],
      "text/plain": [
       "                            accuracy  prediction    recall  f1_score  \\\n",
       "LogisticRegression          0.619578    0.724111  0.619578  0.667778   \n",
       "RandomForestClassifier      0.689475    0.694859  0.689475  0.692156   \n",
       "AdaBoostClassifier          0.704862    0.734045  0.704862  0.719158   \n",
       "GradientBoostingClassifier  0.772139    0.704180  0.772139  0.736596   \n",
       "XGBClassifier               0.762645    0.697080  0.762645  0.728390   \n",
       "LGBMClassifier              0.778523    0.700977  0.778523  0.737718   \n",
       "CatBoostClassifier          0.697004    0.728685  0.697004  0.712493   \n",
       "\n",
       "                             run_time  \n",
       "LogisticRegression           0.179514  \n",
       "RandomForestClassifier      13.139859  \n",
       "AdaBoostClassifier           8.306785  \n",
       "GradientBoostingClassifier  40.813848  \n",
       "XGBClassifier                1.061159  \n",
       "LGBMClassifier               1.291547  \n",
       "CatBoostClassifier           7.342363  "
      ]
     },
     "execution_count": 34,
     "metadata": {},
     "output_type": "execute_result"
    }
   ],
   "source": [
    "Train_Evaluate_Models(balanced_disc, disc_testX, disc_testy)"
   ]
  },
  {
   "cell_type": "code",
   "execution_count": 35,
   "metadata": {
    "scrolled": false
   },
   "outputs": [
    {
     "name": "stderr",
     "output_type": "stream",
     "text": [
      "C:\\Users\\sai\\anaconda3\\lib\\site-packages\\xgboost\\sklearn.py:835: UserWarning: `early_stopping_rounds` in `fit` method is deprecated for better compatibility with scikit-learn, use `early_stopping_rounds` in constructor or`set_params` instead.\n",
      "  warnings.warn(\n",
      "C:\\Users\\sai\\anaconda3\\lib\\site-packages\\lightgbm\\sklearn.py:726: UserWarning: 'early_stopping_rounds' argument is deprecated and will be removed in a future release of LightGBM. Pass 'early_stopping()' callback via 'callbacks' argument instead.\n",
      "  _log_warning(\"'early_stopping_rounds' argument is deprecated and will be removed in a future release of LightGBM. \"\n",
      "C:\\Users\\sai\\anaconda3\\lib\\site-packages\\lightgbm\\sklearn.py:736: UserWarning: 'verbose' argument is deprecated and will be removed in a future release of LightGBM. Pass 'log_evaluation()' callback via 'callbacks' argument instead.\n",
      "  _log_warning(\"'verbose' argument is deprecated and will be removed in a future release of LightGBM. \"\n"
     ]
    },
    {
     "data": {
      "text/html": [
       "<div>\n",
       "<style scoped>\n",
       "    .dataframe tbody tr th:only-of-type {\n",
       "        vertical-align: middle;\n",
       "    }\n",
       "\n",
       "    .dataframe tbody tr th {\n",
       "        vertical-align: top;\n",
       "    }\n",
       "\n",
       "    .dataframe thead th {\n",
       "        text-align: right;\n",
       "    }\n",
       "</style>\n",
       "<table border=\"1\" class=\"dataframe\">\n",
       "  <thead>\n",
       "    <tr style=\"text-align: right;\">\n",
       "      <th></th>\n",
       "      <th>accuracy</th>\n",
       "      <th>prediction</th>\n",
       "      <th>recall</th>\n",
       "      <th>f1_score</th>\n",
       "      <th>run_time</th>\n",
       "    </tr>\n",
       "  </thead>\n",
       "  <tbody>\n",
       "    <tr>\n",
       "      <th>LogisticRegression</th>\n",
       "      <td>0.642927</td>\n",
       "      <td>0.878463</td>\n",
       "      <td>0.642927</td>\n",
       "      <td>0.742463</td>\n",
       "      <td>0.108709</td>\n",
       "    </tr>\n",
       "    <tr>\n",
       "      <th>RandomForestClassifier</th>\n",
       "      <td>0.856252</td>\n",
       "      <td>0.860967</td>\n",
       "      <td>0.856252</td>\n",
       "      <td>0.858603</td>\n",
       "      <td>7.549810</td>\n",
       "    </tr>\n",
       "    <tr>\n",
       "      <th>AdaBoostClassifier</th>\n",
       "      <td>0.779455</td>\n",
       "      <td>0.871325</td>\n",
       "      <td>0.779455</td>\n",
       "      <td>0.822834</td>\n",
       "      <td>5.175158</td>\n",
       "    </tr>\n",
       "    <tr>\n",
       "      <th>GradientBoostingClassifier</th>\n",
       "      <td>0.904824</td>\n",
       "      <td>0.856669</td>\n",
       "      <td>0.904824</td>\n",
       "      <td>0.880088</td>\n",
       "      <td>31.089854</td>\n",
       "    </tr>\n",
       "    <tr>\n",
       "      <th>XGBClassifier</th>\n",
       "      <td>0.893010</td>\n",
       "      <td>0.851404</td>\n",
       "      <td>0.893010</td>\n",
       "      <td>0.871711</td>\n",
       "      <td>1.533900</td>\n",
       "    </tr>\n",
       "    <tr>\n",
       "      <th>LGBMClassifier</th>\n",
       "      <td>0.907122</td>\n",
       "      <td>0.856630</td>\n",
       "      <td>0.907122</td>\n",
       "      <td>0.881153</td>\n",
       "      <td>1.839080</td>\n",
       "    </tr>\n",
       "    <tr>\n",
       "      <th>CatBoostClassifier</th>\n",
       "      <td>0.760092</td>\n",
       "      <td>0.871811</td>\n",
       "      <td>0.760092</td>\n",
       "      <td>0.812127</td>\n",
       "      <td>10.054111</td>\n",
       "    </tr>\n",
       "  </tbody>\n",
       "</table>\n",
       "</div>"
      ],
      "text/plain": [
       "                            accuracy  prediction    recall  f1_score  \\\n",
       "LogisticRegression          0.642927    0.878463  0.642927  0.742463   \n",
       "RandomForestClassifier      0.856252    0.860967  0.856252  0.858603   \n",
       "AdaBoostClassifier          0.779455    0.871325  0.779455  0.822834   \n",
       "GradientBoostingClassifier  0.904824    0.856669  0.904824  0.880088   \n",
       "XGBClassifier               0.893010    0.851404  0.893010  0.871711   \n",
       "LGBMClassifier              0.907122    0.856630  0.907122  0.881153   \n",
       "CatBoostClassifier          0.760092    0.871811  0.760092  0.812127   \n",
       "\n",
       "                             run_time  \n",
       "LogisticRegression           0.108709  \n",
       "RandomForestClassifier       7.549810  \n",
       "AdaBoostClassifier           5.175158  \n",
       "GradientBoostingClassifier  31.089854  \n",
       "XGBClassifier                1.533900  \n",
       "LGBMClassifier               1.839080  \n",
       "CatBoostClassifier          10.054111  "
      ]
     },
     "execution_count": 35,
     "metadata": {},
     "output_type": "execute_result"
    }
   ],
   "source": [
    "Train_Evaluate_Models(balanced_info, info_testX, info_testy)"
   ]
  },
  {
   "cell_type": "markdown",
   "metadata": {},
   "source": [
    "### 4. 5. Model Selection \n",
    "> **LGBMClassifier** <br>\n",
    "> For all type of offers,  \"LGBMClassifier\" shows one of the outstanding model performances. Also the model performed well within a short period of time. In this section, I additionally compare several input features that show significant difference between 'desirably' predicted samples and 'non-desirably' predicted samples. "
   ]
  },
  {
   "cell_type": "code",
   "execution_count": 36,
   "metadata": {},
   "outputs": [],
   "source": [
    "bogo_all_results = pd.DataFrame(lgbm.predict(bogo_testX), columns=['predicted_target'])\n",
    "bogo_predicted = pd.concat([bogo_testX.reset_index(), bogo_all_results], axis=1)"
   ]
  },
  {
   "cell_type": "code",
   "execution_count": 37,
   "metadata": {},
   "outputs": [],
   "source": [
    "disc_all_results = pd.DataFrame(lgbm.predict(disc_testX), columns=['predicted_target'])\n",
    "disc_predicted = pd.concat([disc_testX.reset_index(), disc_all_results], axis=1)\n"
   ]
  },
  {
   "cell_type": "code",
   "execution_count": 38,
   "metadata": {},
   "outputs": [],
   "source": [
    "info_all_results = pd.DataFrame(lgbm.predict(info_testX), columns=['predicted_target'])\n",
    "info_predicted = pd.concat([info_testX.reset_index(), info_all_results], axis=1)"
   ]
  },
  {
   "cell_type": "code",
   "execution_count": 39,
   "metadata": {
    "scrolled": true
   },
   "outputs": [
    {
     "data": {
      "text/plain": [
       "Text(0.5, 1.0, 'Monetary Value (BOGO)')"
      ]
     },
     "execution_count": 39,
     "metadata": {},
     "output_type": "execute_result"
    },
    {
     "data": {
      "image/png": "[encoded data removed]",
      "text/plain": [
       "<Figure size 1080x216 with 3 Axes>"
      ]
     },
     "metadata": {},
     "output_type": "display_data"
    }
   ],
   "source": [
    "plt.figure(figsize=[15,3]) \n",
    "plt.subplots_adjust(wspace = 0.3 , hspace= 0.1)\n",
    "\n",
    "plt.subplot(1, 3, 1)\n",
    "sns.barplot(data = bogo_predicted, x = 'predicted_target', y = 'recency')\n",
    "plt.title('Recency (BOGO)', fontsize = 13)\n",
    "\n",
    "plt.subplot(1, 3, 2)\n",
    "sns.barplot(data = bogo_predicted, x = 'predicted_target', y = 'frequency')\n",
    "plt.title('Frequency (BOGO)', fontsize = 13)\n",
    "\n",
    "plt.subplot(1, 3, 3)\n",
    "sns.barplot(data = bogo_predicted, x = 'predicted_target', y = 'monetary')\n",
    "plt.title('Monetary Value (BOGO)', fontsize = 13)"
   ]
  },
  {
   "cell_type": "code",
   "execution_count": 40,
   "metadata": {},
   "outputs": [
    {
     "data": {
      "text/plain": [
       "Text(0.5, 1.0, 'Monetary (Discount)')"
      ]
     },
     "execution_count": 40,
     "metadata": {},
     "output_type": "execute_result"
    },
    {
     "data": {
      "image/png": "[encoded data removed]",
      "text/plain": [
       "<Figure size 1080x216 with 3 Axes>"
      ]
     },
     "metadata": {},
     "output_type": "display_data"
    }
   ],
   "source": [
    "plt.figure(figsize=[15,3]) \n",
    "plt.subplots_adjust(wspace = 0.3 , hspace= 0.5)\n",
    "\n",
    "plt.subplot(1, 3, 1)\n",
    "sns.barplot(data = disc_predicted, x = 'predicted_target', y = 'recency')\n",
    "plt.title('Recency (Discount)', fontsize = 13)\n",
    "\n",
    "plt.subplot(1, 3, 2)\n",
    "sns.barplot(data = disc_predicted, x = 'predicted_target', y = 'frequency')\n",
    "plt.title('Frequency (Discount)', fontsize = 13)\n",
    "\n",
    "plt.subplot(1, 3, 3)\n",
    "sns.barplot(data = disc_predicted, x = 'predicted_target', y = 'monetary')\n",
    "plt.title('Monetary (Discount)', fontsize = 13)"
   ]
  },
  {
   "cell_type": "code",
   "execution_count": 41,
   "metadata": {},
   "outputs": [
    {
     "data": {
      "text/plain": [
       "Text(0.5, 1.0, 'Monetary (Informational)')"
      ]
     },
     "execution_count": 41,
     "metadata": {},
     "output_type": "execute_result"
    },
    {
     "data": {
      "image/png": "[encoded data removed]",
      "text/plain": [
       "<Figure size 1080x216 with 3 Axes>"
      ]
     },
     "metadata": {},
     "output_type": "display_data"
    }
   ],
   "source": [
    "plt.figure(figsize=[15,3]) \n",
    "plt.subplots_adjust(wspace = 0.3 , hspace= 0.5)\n",
    "\n",
    "plt.subplot(1, 3, 1)\n",
    "sns.barplot(data = info_predicted, x = 'predicted_target', y = 'recency')\n",
    "plt.title('Recency (Informational)', fontsize = 13)\n",
    "\n",
    "plt.subplot(1, 3, 2)\n",
    "sns.barplot(data = info_predicted, x = 'predicted_target', y = 'frequency')\n",
    "plt.title('Frequency (Informational)', fontsize = 13)\n",
    "\n",
    "plt.subplot(1, 3, 3)\n",
    "sns.barplot(data = info_predicted, x = 'predicted_target', y = 'monetary')\n",
    "plt.title('Monetary (Informational)', fontsize = 13)"
   ]
  },
  {
   "cell_type": "markdown",
   "metadata": {},
   "source": [
    "<a id='Conclusion'></a>\n",
    "## 5. Conclusion"
   ]
  },
  {
   "cell_type": "markdown",
   "metadata": {},
   "source": [
    "> In this analysis, I analysed how Starbucks customers use offers based on the transaction data. The customer profile dataset contains a few missing data. These missing values are imputed by the median value of each features. Imputation with its own median values has several advantages. Since the median value is one of the existing values, it is realistic. Also it makes the distribution less skewed. \n",
    "By adjusting the existing features in transcript dataframe, I convert the time column into day, and month columns. <br><br>\n",
    "> Using the cleaned data, I explored current business situations. The number of traffics varies in each month. It increased until the third month. The change of sales amounts follows almost identical patterns with the change of traffics. We can understand that more traffics bring better sales performances. Interestingly, although the number of traffics and sales amount are different in each month, the average spending per each transaction is remarkably similar across the months. <br><br>\n",
    "> All customers in the profile dataset purchased products at Starbucks, although not all of them received offers. The average age of customers are 54.5 years old, and their average yearly income is around 65227. There is no significant difference between genders regarding the received type of offers. Finally, the total number of offers and the number of each type of offers are not correlated with customer's ages, incomes, the number of days as a Starbucks member. <br><br>\n",
    "> The number of issued offers is unbalanced. 'BOGO' and 'Discount' types of offers are almost evenly distributed; around 30000. On the other hand, \"Informational\" type of offer is issued only the half of them (ca. 15000). Not all of the issued offers are viewed. Only 75,68% (= 57725/76277) of offers are checked by customers. Only half of issued 'BOGO' and 'discount' offers are completed. <br><br>\n",
    ">  In addition, I explored customer purchasing patterns based on RFM analysis. RFM is an evaluation method to analyse customer value. It is often used in database marketing especially in retail and professional services industries. RFM indicates the following 3 dimensions: Recency, Frequency, Monetary Value. <br><br>\n",
    "> As mentioned in Capstone proposal, I defined the desirably used offers by both Case 1 and Case 2. Based on the definition, I identified all offer usages into 2 groups: 'desirable', 'non-desirable' per each offer type. As you can see the first bar chart in the part 2, all three datasets highly imbalanced. Therefore, I alleviated the unbalanced datasets by applying Synthetic Minority Oversampling Technique (SMOTE). Then I trained each dataset with various classification models.  <br><br>\n",
    ">For all type of offers, \"LGBMClassifier\" showed the optimal model performances. It achieved 0.7742, 0.7388, 0.8830 of f1-score for bogo, discount, informational datasets, respectively, within the shorter period of time. The f1-score is considerably larger than that of the benchmark model. Also the time duration is much shorter than that of the benchmark model. The model with LGBMClassifier is more efficient than the benchmark model. "
   ]
  }
 ],
 "metadata": {
  "kernelspec": {
   "display_name": "Python 3 (ipykernel)",
   "language": "python",
   "name": "python3"
  },
  "language_info": {
   "codemirror_mode": {
    "name": "ipython",
    "version": 3
   },
   "file_extension": ".py",
   "mimetype": "text/x-python",
   "name": "python",
   "nbconvert_exporter": "python",
   "pygments_lexer": "ipython3",
   "version": "3.9.12"
  }
 },
 "nbformat": 4,
 "nbformat_minor": 4
}
